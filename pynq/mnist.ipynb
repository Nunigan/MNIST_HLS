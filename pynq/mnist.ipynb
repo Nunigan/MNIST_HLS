{
 "cells": [
  {
   "cell_type": "code",
   "execution_count": 28,
   "id": "b0495f44-77a0-4210-b2a8-5e9daf558b39",
   "metadata": {},
   "outputs": [],
   "source": [
    "from pynq import Overlay\n",
    "from pynq import allocate\n",
    "import numpy as np\n",
    "overlay = Overlay('mnist.bit')"
   ]
  },
  {
   "cell_type": "code",
   "execution_count": 30,
   "id": "20db5153-bb02-4d1d-9387-6ee182d5cfee",
   "metadata": {},
   "outputs": [
    {
     "name": "stdout",
     "output_type": "stream",
     "text": [
      "299.997\n",
      "374.99625\n",
      "1333.32\n"
     ]
    },
    {
     "name": "stderr",
     "output_type": "stream",
     "text": [
      "/usr/local/share/pynq-venv/lib/python3.8/site-packages/pynq/ps.py:462: UserWarning: Setting frequency to the closest possible value 374.99625MHz.\n",
      "  warnings.warn(\n"
     ]
    }
   ],
   "source": [
    "from pynq import ps\n",
    "\n",
    "print(ps.Clocks.fclk0_mhz)\n",
    "ps.Clocks.fclk0_mhz = 375\n",
    "print(ps.Clocks.fclk0_mhz)\n",
    "print(ps.Clocks.cpu_mhz)"
   ]
  },
  {
   "cell_type": "code",
   "execution_count": 3,
   "id": "b6d0d550-39d9-4c77-88a7-1041b1f5738b",
   "metadata": {},
   "outputs": [],
   "source": [
    "ip = overlay.MultilayerPerceptron_0\n",
    "mmio = ip.mmio\n",
    "register_map = ip.register_map\n",
    "registers = register_map._register_classes"
   ]
  },
  {
   "cell_type": "code",
   "execution_count": 4,
   "id": "dd85d265-166c-47e9-b7f1-3599cd5ca36b",
   "metadata": {},
   "outputs": [
    {
     "name": "stdout",
     "output_type": "stream",
     "text": [
      "CTRL (<class 'pynq.registers.RegisterCTRL'>, 0, 32, None, None, 'read-write')\n",
      "GIER (<class 'pynq.registers.RegisterGIER'>, 4, 32, None, None, 'read-write')\n",
      "IP_IER (<class 'pynq.registers.RegisterIP_IER'>, 8, 32, None, None, 'read-write')\n",
      "IP_ISR (<class 'pynq.registers.RegisterIP_ISR'>, 12, 32, None, None, 'read-write')\n",
      "im_1 (<class 'pynq.registers.Registerim_1'>, 16, 32, None, None, 'write-only')\n",
      "im_2 (<class 'pynq.registers.Registerim_2'>, 20, 32, None, None, 'write-only')\n",
      "out_r_1 (<class 'pynq.registers.Registerout_r_1'>, 28, 32, None, None, 'write-only')\n",
      "out_r_2 (<class 'pynq.registers.Registerout_r_2'>, 32, 32, None, None, 'write-only')\n"
     ]
    }
   ],
   "source": [
    "for name, reg in registers.items():\n",
    "    print(name, reg)"
   ]
  },
  {
   "cell_type": "code",
   "execution_count": 5,
   "id": "ef386bb5-59a4-4af2-9c83-7e220c6b94e1",
   "metadata": {},
   "outputs": [],
   "source": [
    "# Allocated buffer (m_axi)\n",
    "input_buffer_size = 7840000\n",
    "output_buffer_size = 10000\n",
    "\n",
    "input_buffer = allocate(shape=(input_buffer_size,), dtype=np.int8) \n",
    "output_buffer = allocate(shape=(output_buffer_size,), dtype=np.int8) \n",
    "register_map.im_1.im = input_buffer.device_address\n",
    "register_map.out_r_1.out_r = output_buffer.device_address\n"
   ]
  },
  {
   "cell_type": "code",
   "execution_count": 6,
   "id": "f93155b4-0eb3-411e-a3cd-717ed349fe8f",
   "metadata": {},
   "outputs": [],
   "source": [
    "import glob\n",
    "\n",
    "bias = []\n",
    "weight = []\n",
    "scales = [512, 256, 256]\n",
    "layers = [784,128,256,10]\n",
    "\n",
    "x_test = (np.load('x_test.npy')//32).astype(np.int8)\n",
    "y_test = np.load('y_test.npy')\n",
    "\n",
    "for filename in sorted(glob.glob(\"../VitisAI/dump_results/dump_results_weights/quant_dense_*_bias.txt\")):\n",
    "    bias.append(np.loadtxt(filename))\n",
    "for filename in sorted(glob.glob(\"../VitisAI/dump_results/dump_results_weights/quant_dense_*_kernel.txt\")):\n",
    "    weight.append(np.loadtxt(filename))\n",
    "\n",
    "for i in range(3):\n",
    "   weight[i] = weight[i].reshape(layers[i],layers[i+1])"
   ]
  },
  {
   "cell_type": "code",
   "execution_count": 7,
   "id": "be106eb7-ccf3-4652-a35e-ac671606d435",
   "metadata": {},
   "outputs": [],
   "source": [
    "# Hardware accelerated function\n",
<<<<<<< HEAD
    "def mnist_hw(im):\n",
=======
    "def mnist(im):\n",
>>>>>>> be7dc5e831884c0196d4e58d7d1feced7fee93b6
    "    # Write to input buffer\n",
    "    input_buffer[:len(im)] = im\n",
    "    # Send start signal\n",
    "    register_map.CTRL.AP_START = 1\n",
    "    \n",
    "    # Wait until algorithm has completed\n",
    "    while (register_map.CTRL.AP_DONE == 0):\n",
    "        pass\n",
<<<<<<< HEAD
    "\n",
=======
    "    \n",
>>>>>>> be7dc5e831884c0196d4e58d7d1feced7fee93b6
    "    return output_buffer"
   ]
  },
  {
   "cell_type": "code",
   "execution_count": 1,
   "id": "10ddac26-fb0b-4a7b-8124-2c85a32a8f0a",
   "metadata": {},
   "outputs": [],
   "source": [
    "def mnist_sw(im):\n",
    "    result = []\n",
    "    for i in range(10000):\n",
    "        data = im[i]\n",
    "        for j in range(3):\n",
    "            data = (data@weight[j]+bias[j])//scales[j]\n",
    "            if j != 2:\n",
    "                data = data*(data>0)\n",
    "        result.append(np.argmax(data))\n",
    "    return result"
   ]
  },
  {
   "cell_type": "code",
   "execution_count": 31,
   "id": "90f4ebdd-b33b-45fc-bbb8-d34b7bd04b4d",
   "metadata": {},
   "outputs": [
    {
     "name": "stdout",
     "output_type": "stream",
     "text": [
      "acc hls 0.9764\n",
      "acc py 0.9764\n"
     ]
    }
   ],
   "source": [
    "res_hls = []\n",
    "res_py = []\n",
    "err_hls = 0\n",
    "err_py = 0\n",
    "\n",
    "res_hls = mnist_hw(x_test.flatten())\n",
    "res_py = mnist_sw(x_test)\n",
    "    \n",
    "for i in range(10000):            \n",
    "    if res_hls[i] != y_test[i]:\n",
    "        err_hls +=1\n",
    "\n",
    "    if res_py[i] != y_test[i]:\n",
    "        err_py +=1\n",
    "        \n",
    "print(\"acc hls {}\".format(1-err_hls/10000))                 \n",
    "print(\"acc py {}\".format(1-err_py/10000))"
   ]
  },
  {
   "cell_type": "code",
   "execution_count": 33,
   "id": "3dfd8065-f879-4afd-975d-2ca735ec8ec6",
   "metadata": {},
   "outputs": [
    {
     "name": "stdout",
     "output_type": "stream",
     "text": [
      "43.4 ms ± 193 µs per loop (mean ± std. dev. of 10 runs, 1 loop each)\n",
      "7.29 s ± 65.3 ms per loop (mean ± std. dev. of 10 runs, 1 loop each)\n",
      "Performance gain: 168.18007642462447\n"
     ]
    }
   ],
   "source": [
    "hw_time = %timeit -n 1 -r 10 -o mnist_hw(x_test.flatten())\n",
    "sw_time = %timeit -n 1 -r 10 -o mnist_sw(x_test)\n",
    "\n",
<<<<<<< HEAD
    "print('Performance gain:', sw_time.average / hw_time.average) "
=======
    "print('Performance gain:', sw_time.average / hw_time.average)"
>>>>>>> be7dc5e831884c0196d4e58d7d1feced7fee93b6
   ]
  },
  {
   "cell_type": "code",
   "execution_count": null,
<<<<<<< HEAD
   "id": "4653e3f8",
   "metadata": {},
   "outputs": [],
   "source": [
    "print(\"hw fps = {:.1f}\".format((hw_time.average/10000)**-1))\n",
    "print(\"sw fps = {:.1f}\".format((sw_time.average/10000)**-1))"
=======
   "id": "1a837b35",
   "metadata": {},
   "outputs": [],
   "source": [
    "print('FPS HW:', 10000/hw_time.average)\n",
    "print('FPS SW:', 10000/hw_time.average)"
>>>>>>> be7dc5e831884c0196d4e58d7d1feced7fee93b6
   ]
  }
 ],
 "metadata": {
  "kernelspec": {
   "display_name": "Python 3.8.10 64-bit",
   "language": "python",
   "name": "python3"
  },
  "language_info": {
   "codemirror_mode": {
    "name": "ipython",
    "version": 3
   },
   "file_extension": ".py",
   "mimetype": "text/x-python",
   "name": "python",
   "nbconvert_exporter": "python",
   "pygments_lexer": "ipython3",
   "version": "3.8.10"
  },
  "vscode": {
   "interpreter": {
    "hash": "916dbcbb3f70747c44a77c7bcd40155683ae19c65e1c03b4aa3499c5328201f1"
   }
  }
 },
 "nbformat": 4,
 "nbformat_minor": 5
}
